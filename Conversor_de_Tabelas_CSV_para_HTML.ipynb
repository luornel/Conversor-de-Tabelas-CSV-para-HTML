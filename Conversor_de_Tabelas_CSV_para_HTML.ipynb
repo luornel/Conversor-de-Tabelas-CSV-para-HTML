{
  "nbformat": 4,
  "nbformat_minor": 0,
  "metadata": {
    "colab": {
      "provenance": []
    },
    "kernelspec": {
      "name": "python3",
      "display_name": "Python 3"
    },
    "language_info": {
      "name": "python"
    }
  },
  "cells": [
    {
      "cell_type": "code",
      "execution_count": 16,
      "metadata": {
        "colab": {
          "base_uri": "https://localhost:8080/"
        },
        "id": "g67ZAQxl2W9P",
        "outputId": "191814cd-f13c-40a1-96d2-9308952c0691"
      },
      "outputs": [
        {
          "output_type": "stream",
          "name": "stdout",
          "text": [
            "<table border=\"1\" class=\"dataframe\">\n",
            "  <thead>\n",
            "    <tr style=\"text-align: right;\">\n",
            "      <th>Posição</th>\n",
            "      <th>Data</th>\n",
            "      <th>Nome</th>\n",
            "    </tr>\n",
            "  </thead>\n",
            "  <tbody>\n",
            "    <tr>\n",
            "      <td>1</td>\n",
            "      <td>30/10/2023</td>\n",
            "      <td>Luã Ornelas</td>\n",
            "    </tr>\n",
            "    <tr>\n",
            "      <td>2</td>\n",
            "      <td>30//10/2023</td>\n",
            "      <td>João Silva</td>\n",
            "    </tr>\n",
            "  </tbody>\n",
            "</table>\n"
          ]
        }
      ],
      "source": [
        "import pandas as pd\n",
        "import re\n",
        "\n",
        "def gerar_tabela_html(entradas):\n",
        "    dados = {'Posição': [], 'Data': [], 'Nome': []}\n",
        "\n",
        "    for entrada in entradas:\n",
        "\n",
        "        partes = re.match(r'\"(.*?)\"\\s+\"(.*?)\"\\s+\"(.*?)\"', entrada)\n",
        "        if not partes:\n",
        "            return 'Formato de entrada inválido. Por favor, insira no formato \"posição\" \"data\" \"nome\".'\n",
        "\n",
        "        posicao, data, nome = partes.groups()\n",
        "        dados['Posição'].append(posicao)\n",
        "        dados['Data'].append(data)\n",
        "        dados['Nome'].append(nome)\n",
        "\n",
        "    df = pd.DataFrame(dados)\n",
        "\n",
        "    tabela_html = df.to_html(index=False, escape=False)\n",
        "\n",
        "    return tabela_html\n",
        "\n",
        "entradas = [\n",
        "'\"1\" \"30/10/2023\" \"Luã Ornelas\"',\n",
        "'\"2\" \"30//10/2023\" \"João Silva\"'\n",
        "]\n",
        "tabela_html = gerar_tabela_html(entradas)\n",
        "print(tabela_html)\n"
      ]
    }
  ]
}